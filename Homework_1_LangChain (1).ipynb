{
  "nbformat": 4,
  "nbformat_minor": 0,
  "metadata": {
    "colab": {
      "provenance": []
    },
    "kernelspec": {
      "name": "python3",
      "display_name": "Python 3"
    },
    "language_info": {
      "name": "python"
    }
  },
  "cells": [
    {
      "cell_type": "markdown",
      "source": [
        "\"\"\"\n",
        "📘 Language Learning Translator Agent\n",
        "--------------------------------------\n",
        "\n",
        "This is a simple CLI-based bilingual translator and vocabulary tutor.\n",
        "\n",
        "🧠 What It Does:\n",
        "- Translates an English sentence into Spanish (can be changed to any language)\n",
        "- Provides a word-by-word mapping of each English word to its Spanish equivalent\n",
        "- Helps users learn both sentence structure and vocabulary together\n",
        "\n",
        "🎯 Use Case:\n",
        "Great for beginner language learners who want to improve vocabulary and sentence comprehension.\n",
        "\n",
        "💡 Example:\n",
        "Input:    My name is Deepti\n",
        "Output:   \n",
        "1. Full Sentence in Spanish: Mi nombre es Deepti\n",
        "2. Word-by-word:\n",
        "   - my → mi\n",
        "   - name → nombre\n",
        "   - is → es\n",
        "   - Deepti → Deepti\n",
        "\n",
        "🚀 How to Use:\n",
        "- Run this script in your terminal\n",
        "- Type an English sentence\n",
        "- Get both full and word-by-word Spanish translations\n",
        "- Type 'exit' to quit\n",
        "\n",
        "🔐 Note: Your OpenAI API key is hardcoded for demo purposes.\n",
        "\"\"\""
      ],
      "metadata": {
        "id": "52zsBBvX5ENP"
      }
    },
    {
      "cell_type": "code",
      "source": [
        "pip install -U langchain-community\n"
      ],
      "metadata": {
        "id": "xpwK8Zr15Eky"
      },
      "execution_count": null,
      "outputs": []
    },
    {
      "cell_type": "code",
      "source": [
        "pip install -U langchain-openai\n"
      ],
      "metadata": {
        "id": "B6sxNsMk6YX0"
      },
      "execution_count": null,
      "outputs": []
    },
    {
      "cell_type": "code",
      "source": [
        "pip install -U langchain langchain-community langchain-openai openai faiss-cpu tiktoken"
      ],
      "metadata": {
        "id": "dTe5vYm76dFr"
      },
      "execution_count": null,
      "outputs": []
    },
    {
      "cell_type": "code",
      "source": [
        "# language_learning_translator.py\n",
        "\n",
        "import os\n",
        "from langchain.chains import LLMChain\n",
        "from langchain.prompts import PromptTemplate\n",
        "from langchain_openai import ChatOpenAI\n",
        "\n",
        "# ✅ 1. Hardcoded OpenAI API Key (for demo only)\n",
        "os.environ[\"OPENAI_API_KEY\"] = \"\"      # Get from https://platform.openai.com/account/api-keys\n",
        "\n",
        "# ✅ 2. Target language\n",
        "target_language = \"Spanish\"\n",
        "\n",
        "# ✅ 3. Setup LLM\n",
        "llm = ChatOpenAI(model=\"gpt-3.5-turbo\", temperature=0)\n",
        "\n",
        "# ✅ 4. Combined Prompt: Sentence + Word-by-Word Translation\n",
        "template = \"\"\"\n",
        "You are a bilingual language tutor.\n",
        "\n",
        "Translate the full sentence from English to {language}, and then provide a word-by-word translation in a list format to help language learners.\n",
        "\n",
        "Sentence: {text}\n",
        "\n",
        "Output format:\n",
        "1. Full sentence translation in {language}\n",
        "2. Word-by-word translation table like:\n",
        "   - my → mi\n",
        "   - name → nombre\n",
        "   - is → es\n",
        "\"\"\"\n",
        "\n",
        "prompt = PromptTemplate(\n",
        "    input_variables=[\"language\", \"text\"],\n",
        "    template=template\n",
        ")\n",
        "\n",
        "chain = LLMChain(llm=llm, prompt=prompt)\n",
        "\n",
        "# ✅ 5. Translation loop\n",
        "print(f\"🌍 English → {target_language} Translator & Vocabulary Helper\")\n",
        "print(\"💬 Type a full English sentence (e.g., 'My name is Deepti'). Type 'exit' to quit.\\n\")\n",
        "\n",
        "while True:\n",
        "    text = input(\"English: \").strip()\n",
        "    if text.lower() == \"exit\":\n",
        "        print(\"👋 Goodbye!\")\n",
        "        break\n",
        "    try:\n",
        "        result = chain.run(language=target_language, text=text)\n",
        "        print(f\"\\n📘 Translation Output:\\n{result}\\n\")\n",
        "    except Exception as e:\n",
        "        print(f\"⚠️ Error: {e}\")\n"
      ],
      "metadata": {
        "id": "0iyRNFpa3oR4"
      },
      "execution_count": null,
      "outputs": []
    }
  ]
}